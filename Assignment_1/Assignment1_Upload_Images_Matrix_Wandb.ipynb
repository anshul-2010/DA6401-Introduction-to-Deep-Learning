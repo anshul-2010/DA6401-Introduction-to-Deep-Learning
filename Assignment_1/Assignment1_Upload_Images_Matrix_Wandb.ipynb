{
 "cells": [
  {
   "cell_type": "markdown",
   "metadata": {
    "id": "0J2rW7irVISu"
   },
   "source": [
    "#### Import libraries"
   ]
  },
  {
   "cell_type": "code",
   "execution_count": 2,
   "metadata": {
    "id": "M7jmBIjlUoWo"
   },
   "outputs": [],
   "source": [
    "import warnings\n",
    "import numpy as np\n",
    "import matplotlib.pyplot as plt\n",
    "from keras.datasets import fashion_mnist\n",
    "warnings.filterwarnings(\"ignore\")\n",
    "import wandb"
   ]
  },
  {
   "cell_type": "code",
   "execution_count": 1,
   "metadata": {},
   "outputs": [],
   "source": [
    "from sklearn.model_selection import train_test_split"
   ]
  },
  {
   "cell_type": "code",
   "execution_count": 3,
   "metadata": {
    "colab": {
     "base_uri": "https://localhost:8080/",
     "height": 614
    },
    "id": "JJ4lFpwsVDTA",
    "outputId": "f704641f-1803-4f08-babf-c78363f72f9f"
   },
   "outputs": [
    {
     "name": "stderr",
     "output_type": "stream",
     "text": [
      "\u001b[34m\u001b[1mwandb\u001b[0m: Using wandb-core as the SDK backend.  Please refer to https://wandb.me/wandb-core for more information.\n",
      "\u001b[34m\u001b[1mwandb\u001b[0m: Currently logged in as: \u001b[33manshul_2010\u001b[0m (\u001b[33manshul_2010-indian-institute-of-technology-madras\u001b[0m) to \u001b[32mhttps://api.wandb.ai\u001b[0m. Use \u001b[1m`wandb login --relogin`\u001b[0m to force relogin\n"
     ]
    },
    {
     "data": {
      "text/html": [
       "Tracking run with wandb version 0.19.8"
      ],
      "text/plain": [
       "<IPython.core.display.HTML object>"
      ]
     },
     "metadata": {},
     "output_type": "display_data"
    },
    {
     "data": {
      "text/html": [
       "Run data is saved locally in <code>c:\\Users\\Dell\\Desktop\\Courses\\Sem_VIII\\DA6401\\DA6401-Introduction-to-Deep-Learning\\Assignment_1\\wandb\\run-20250317_193752-z5l54bzi</code>"
      ],
      "text/plain": [
       "<IPython.core.display.HTML object>"
      ]
     },
     "metadata": {},
     "output_type": "display_data"
    },
    {
     "data": {
      "text/html": [
       "Syncing run <strong><a href='https://wandb.ai/anshul_2010-indian-institute-of-technology-madras/DA6401-Assignment1/runs/z5l54bzi' target=\"_blank\">good-terrain-189</a></strong> to <a href='https://wandb.ai/anshul_2010-indian-institute-of-technology-madras/DA6401-Assignment1' target=\"_blank\">Weights & Biases</a> (<a href='https://wandb.me/developer-guide' target=\"_blank\">docs</a>)<br>"
      ],
      "text/plain": [
       "<IPython.core.display.HTML object>"
      ]
     },
     "metadata": {},
     "output_type": "display_data"
    },
    {
     "data": {
      "text/html": [
       " View project at <a href='https://wandb.ai/anshul_2010-indian-institute-of-technology-madras/DA6401-Assignment1' target=\"_blank\">https://wandb.ai/anshul_2010-indian-institute-of-technology-madras/DA6401-Assignment1</a>"
      ],
      "text/plain": [
       "<IPython.core.display.HTML object>"
      ]
     },
     "metadata": {},
     "output_type": "display_data"
    },
    {
     "data": {
      "text/html": [
       " View run at <a href='https://wandb.ai/anshul_2010-indian-institute-of-technology-madras/DA6401-Assignment1/runs/z5l54bzi' target=\"_blank\">https://wandb.ai/anshul_2010-indian-institute-of-technology-madras/DA6401-Assignment1/runs/z5l54bzi</a>"
      ],
      "text/plain": [
       "<IPython.core.display.HTML object>"
      ]
     },
     "metadata": {},
     "output_type": "display_data"
    },
    {
     "data": {
      "text/html": [
       "<button onClick=\"this.nextSibling.style.display='block';this.style.display='none';\">Display W&B run</button><iframe src='https://wandb.ai/anshul_2010-indian-institute-of-technology-madras/DA6401-Assignment1/runs/z5l54bzi?jupyter=true' style='border:none;width:100%;height:420px;display:none;'></iframe>"
      ],
      "text/plain": [
       "<wandb.sdk.wandb_run.Run at 0x1e95931d010>"
      ]
     },
     "execution_count": 3,
     "metadata": {},
     "output_type": "execute_result"
    }
   ],
   "source": [
    "# Connect to wandb (change entity name when you log)\n",
    "wandb.init(project=\"DA6401-Assignment1\")"
   ]
  },
  {
   "cell_type": "markdown",
   "metadata": {
    "id": "HjWCKvIkVp5r"
   },
   "source": [
    "#### Download data"
   ]
  },
  {
   "cell_type": "code",
   "execution_count": null,
   "metadata": {
    "colab": {
     "base_uri": "https://localhost:8080/"
    },
    "id": "bixsCKMnVmmY",
    "outputId": "6e0b4cb4-c8fb-4d9c-d8d6-6bcaa39786a1"
   },
   "outputs": [],
   "source": [
    "# Download dataset\n",
    "(X, y), (X_test, y_test) = fashion_mnist.load_data()\n",
    "\n",
    "# Split the X_train into a training set and validation set\n",
    "X_train, X_val, y_train, y_val = train_test_split(X, y, test_size=0.2, random_state=42)"
   ]
  },
  {
   "cell_type": "code",
   "execution_count": null,
   "metadata": {
    "id": "dINMYRThaEBS"
   },
   "outputs": [],
   "source": [
    "# Labels from the Fashion-MNIST dataset\n",
    "class_names = ['T-shirt/top', 'Trouser', 'Pullover', 'Dress', 'Coat',\n",
    "               'Sandal', 'Shirt', 'Sneaker', 'Bag', 'Ankle boot']"
   ]
  },
  {
   "cell_type": "code",
   "execution_count": null,
   "metadata": {
    "colab": {
     "base_uri": "https://localhost:8080/"
    },
    "id": "GQRZa7dDVpgi",
    "outputId": "42d61fd8-e33e-4ed6-b9df-13094ee2d941"
   },
   "outputs": [],
   "source": [
    "# Number of training examples\n",
    "M = X_train.shape[0]\n",
    "\n",
    "# Number of validation samples\n",
    "Mval = X_val.shape[0]\n",
    "\n",
    "# Number of test examples\n",
    "Mtest = X_test.shape[0]\n",
    "\n",
    "# Number of features in the dataset\n",
    "num_features = 784\n",
    "\n",
    "# Number of classes\n",
    "num_classes = len(np.unique(y_train))\n",
    "\n",
    "# One hot encoding for class labels\n",
    "y_train_one_hot = np.zeros((10, M))\n",
    "y_train_one_hot[y_train, np.array(list(range(M)))] = 1\n",
    "y_train_one_hot = y_train_one_hot.T\n",
    "\n",
    "y_val_one_hot = np.zeros((10, Mval))\n",
    "y_val_one_hot[y_val, np.array(list(range(Mval)))] = 1\n",
    "y_val_one_hot = y_val_one_hot.T\n",
    "\n",
    "y_test_one_hot = np.zeros((10, Mtest))\n",
    "y_test_one_hot[y_test, np.array(list(range(Mtest)))] = 1\n",
    "y_test_one_hot = y_test_one_hot.T\n",
    "\n",
    "print(\"Number of images in the training set =\", M)\n",
    "print(\"Number of images in the validation set =\", Mval)\n",
    "print(\"Number of images in the test set =\", Mtest)\n",
    "print(\"Number of classes =\", num_classes)\n",
    "print(\"Number of features per example =\", num_features)"
   ]
  },
  {
   "cell_type": "markdown",
   "metadata": {
    "id": "rYR7T7ZnYmBp"
   },
   "source": [
    "### Logging Sample Images"
   ]
  },
  {
   "cell_type": "code",
   "execution_count": null,
   "metadata": {
    "id": "dTcyI8f8V8kH"
   },
   "outputs": [],
   "source": [
    "# Store the index of first occurrence of each class\n",
    "example_indices = [list(y_train).index(i) for i in range(num_classes)]\n",
    "\n",
    "# example_images is a list containing one sample image per class, example_captions stores the corresponsing captions\n",
    "example_images = []\n",
    "example_captions = []\n",
    "for index in example_indices:\n",
    "    example_images.append(X_train[index])\n",
    "    example_captions.append(class_names[y_train[index]])\n",
    "\n",
    "# Log one sample image of each class to wandb\n",
    "wandb.log({\"Sample Image from each class\": [wandb.Image(image, caption=caption) for image, caption in zip(example_images, example_captions)]})"
   ]
  },
  {
   "cell_type": "code",
   "execution_count": null,
   "metadata": {},
   "outputs": [],
   "source": [
    "len(example_images)\n",
    "len(example_captions)"
   ]
  },
  {
   "cell_type": "code",
   "execution_count": null,
   "metadata": {},
   "outputs": [],
   "source": [
    "wandb.finish()"
   ]
  },
  {
   "cell_type": "markdown",
   "metadata": {
    "id": "kg19R5Dhhjk9"
   },
   "source": [
    "#### Logging the Confusion Matrices"
   ]
  },
  {
   "cell_type": "code",
   "execution_count": 4,
   "metadata": {
    "id": "1lJLd0yWZNjS"
   },
   "outputs": [],
   "source": [
    "# Load the confusion matrix images\n",
    "img1 = plt.imread(\"trainmatrix.png\")\n",
    "img2 = plt.imread(\"testmatrix.png\")\n",
    "\n",
    "# Log images of the confusion matrices\n",
    "wandb.log({\"Confusion Matrix - Training set\": wandb.Image(img1)})\n",
    "wandb.log({\"Confusion Matrix - Test set\": wandb.Image(img2)})"
   ]
  },
  {
   "cell_type": "code",
   "execution_count": null,
   "metadata": {},
   "outputs": [],
   "source": []
  }
 ],
 "metadata": {
  "colab": {
   "collapsed_sections": [],
   "name": "Assignment1_Upload_Images_Matrix_Wandb.ipynb",
   "provenance": [],
   "toc_visible": true
  },
  "kernelspec": {
   "display_name": "Assignment1",
   "language": "python",
   "name": "python3"
  },
  "language_info": {
   "codemirror_mode": {
    "name": "ipython",
    "version": 3
   },
   "file_extension": ".py",
   "mimetype": "text/x-python",
   "name": "python",
   "nbconvert_exporter": "python",
   "pygments_lexer": "ipython3",
   "version": "3.11.4"
  }
 },
 "nbformat": 4,
 "nbformat_minor": 1
}
