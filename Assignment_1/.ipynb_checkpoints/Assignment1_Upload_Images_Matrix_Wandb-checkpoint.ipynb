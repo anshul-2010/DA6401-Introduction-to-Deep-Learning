{
 "cells": [
  {
   "cell_type": "markdown",
   "metadata": {
    "id": "0J2rW7irVISu"
   },
   "source": [
    "#### Import libraries"
   ]
  },
  {
   "cell_type": "code",
   "execution_count": null,
   "metadata": {
    "colab": {
     "base_uri": "https://localhost:8080/"
    },
    "id": "WRxhb9DQWWMl",
    "outputId": "0d53e3e4-2bff-48a5-c3f7-bb14ff35f3c5"
   },
   "outputs": [],
   "source": [
    "! pip install wandb"
   ]
  },
  {
   "cell_type": "code",
   "execution_count": null,
   "metadata": {
    "id": "M7jmBIjlUoWo"
   },
   "outputs": [],
   "source": [
    "import warnings\n",
    "import numpy as np\n",
    "import pandas as pd\n",
    "import matplotlib.pyplot as plt\n",
    "from keras.datasets import fashion_mnist\n",
    "from sklearn.model_selection import train_test_split\n",
    "warnings.filterwarnings(\"ignore\")"
   ]
  },
  {
   "cell_type": "code",
   "execution_count": null,
   "metadata": {
    "colab": {
     "base_uri": "https://localhost:8080/",
     "height": 614
    },
    "id": "JJ4lFpwsVDTA",
    "outputId": "f704641f-1803-4f08-babf-c78363f72f9f"
   },
   "outputs": [
    {
     "data": {
      "application/javascript": [
       "\n",
       "        window._wandbApiKey = new Promise((resolve, reject) => {\n",
       "            function loadScript(url) {\n",
       "            return new Promise(function(resolve, reject) {\n",
       "                let newScript = document.createElement(\"script\");\n",
       "                newScript.onerror = reject;\n",
       "                newScript.onload = resolve;\n",
       "                document.body.appendChild(newScript);\n",
       "                newScript.src = url;\n",
       "            });\n",
       "            }\n",
       "            loadScript(\"https://cdn.jsdelivr.net/npm/postmate/build/postmate.min.js\").then(() => {\n",
       "            const iframe = document.createElement('iframe')\n",
       "            iframe.style.cssText = \"width:0;height:0;border:none\"\n",
       "            document.body.appendChild(iframe)\n",
       "            const handshake = new Postmate({\n",
       "                container: iframe,\n",
       "                url: 'https://wandb.ai/authorize'\n",
       "            });\n",
       "            const timeout = setTimeout(() => reject(\"Couldn't auto authenticate\"), 5000)\n",
       "            handshake.then(function(child) {\n",
       "                child.on('authorize', data => {\n",
       "                    clearTimeout(timeout)\n",
       "                    resolve(data)\n",
       "                });\n",
       "            });\n",
       "            })\n",
       "        });\n",
       "    "
      ],
      "text/plain": [
       "<IPython.core.display.Javascript object>"
      ]
     },
     "metadata": {
      "tags": []
     },
     "output_type": "display_data"
    },
    {
     "name": "stderr",
     "output_type": "stream",
     "text": [
      "\u001b[34m\u001b[1mwandb\u001b[0m: Appending key for api.wandb.ai to your netrc file: /root/.netrc\n"
     ]
    },
    {
     "data": {
      "text/html": [
       "\n",
       "                Tracking run with wandb version 0.10.22<br/>\n",
       "                Syncing run <strong style=\"color:#cdcd00\">assignment_1_log_images</strong> to <a href=\"https://wandb.ai\" target=\"_blank\">Weights & Biases</a> <a href=\"https://docs.wandb.com/integrations/jupyter.html\" target=\"_blank\">(Documentation)</a>.<br/>\n",
       "                Project page: <a href=\"https://wandb.ai/ee17b154tony/dl_assignment1\" target=\"_blank\">https://wandb.ai/ee17b154tony/dl_assignment1</a><br/>\n",
       "                Run page: <a href=\"https://wandb.ai/ee17b154tony/dl_assignment1/runs/3c3p9ary\" target=\"_blank\">https://wandb.ai/ee17b154tony/dl_assignment1/runs/3c3p9ary</a><br/>\n",
       "                Run data is saved locally in <code>/content/wandb/run-20210310_181701-3c3p9ary</code><br/><br/>\n",
       "            "
      ],
      "text/plain": [
       "<IPython.core.display.HTML object>"
      ]
     },
     "metadata": {
      "tags": []
     },
     "output_type": "display_data"
    },
    {
     "data": {
      "text/html": [
       "<h1>Run(3c3p9ary)</h1><iframe src=\"https://wandb.ai/ee17b154tony/dl_assignment1/runs/3c3p9ary\" style=\"border:none;width:100%;height:400px\"></iframe>"
      ],
      "text/plain": [
       "<wandb.sdk.wandb_run.Run at 0x7f72cd1abe90>"
      ]
     },
     "execution_count": 3,
     "metadata": {
      "tags": []
     },
     "output_type": "execute_result"
    }
   ],
   "source": [
    "import wandb\n",
    "\n",
    "# Connect to wandb (change entity name when you log)\n",
    "wandb.init(project=\"dl_assignment1\", entity=\"ee17b154tony\", name=\"assignment_1_log_images\")"
   ]
  },
  {
   "cell_type": "markdown",
   "metadata": {
    "id": "HjWCKvIkVp5r"
   },
   "source": [
    "#### Download data"
   ]
  },
  {
   "cell_type": "code",
   "execution_count": null,
   "metadata": {
    "colab": {
     "base_uri": "https://localhost:8080/"
    },
    "id": "bixsCKMnVmmY",
    "outputId": "6e0b4cb4-c8fb-4d9c-d8d6-6bcaa39786a1"
   },
   "outputs": [
    {
     "name": "stdout",
     "output_type": "stream",
     "text": [
      "Downloading data from https://storage.googleapis.com/tensorflow/tf-keras-datasets/train-labels-idx1-ubyte.gz\n",
      "32768/29515 [=================================] - 0s 0us/step\n",
      "Downloading data from https://storage.googleapis.com/tensorflow/tf-keras-datasets/train-images-idx3-ubyte.gz\n",
      "26427392/26421880 [==============================] - 0s 0us/step\n",
      "Downloading data from https://storage.googleapis.com/tensorflow/tf-keras-datasets/t10k-labels-idx1-ubyte.gz\n",
      "8192/5148 [===============================================] - 0s 0us/step\n",
      "Downloading data from https://storage.googleapis.com/tensorflow/tf-keras-datasets/t10k-images-idx3-ubyte.gz\n",
      "4423680/4422102 [==============================] - 0s 0us/step\n"
     ]
    }
   ],
   "source": [
    "# Download dataset\n",
    "(X, y), (X_test, y_test) = fashion_mnist.load_data()\n",
    "\n",
    "# Split the X_train into a training set and validation set\n",
    "X_train, X_val, y_train, y_val = train_test_split(X, y, test_size=0.2, random_state=42)"
   ]
  },
  {
   "cell_type": "code",
   "execution_count": null,
   "metadata": {
    "id": "dINMYRThaEBS"
   },
   "outputs": [],
   "source": [
    "# Labels from the Fashion-MNIST dataset\n",
    "class_names = ['T-shirt/top', 'Trouser', 'Pullover', 'Dress', 'Coat',\n",
    "               'Sandal', 'Shirt', 'Sneaker', 'Bag', 'Ankle boot']"
   ]
  },
  {
   "cell_type": "code",
   "execution_count": null,
   "metadata": {
    "colab": {
     "base_uri": "https://localhost:8080/"
    },
    "id": "GQRZa7dDVpgi",
    "outputId": "42d61fd8-e33e-4ed6-b9df-13094ee2d941"
   },
   "outputs": [
    {
     "name": "stdout",
     "output_type": "stream",
     "text": [
      "Number of images in the training set = 48000\n",
      "Number of images in the validation set = 12000\n",
      "Number of images in the test set = 10000\n",
      "Number of classes = 10\n",
      "Number of features per example = 784\n"
     ]
    }
   ],
   "source": [
    "# Number of training examples\n",
    "M = X_train.shape[0]\n",
    "\n",
    "# Number of validation samples\n",
    "Mval = X_val.shape[0]\n",
    "\n",
    "# Number of test examples\n",
    "Mtest = X_test.shape[0]\n",
    "\n",
    "# Number of features in the dataset\n",
    "num_features = 784\n",
    "\n",
    "# Number of classes\n",
    "num_classes = len(np.unique(y_train))\n",
    "\n",
    "# One hot encoding for class labels\n",
    "y_train_one_hot = np.zeros((10, M))\n",
    "y_train_one_hot[y_train, np.array(list(range(M)))] = 1\n",
    "y_train_one_hot = y_train_one_hot.T\n",
    "\n",
    "y_val_one_hot = np.zeros((10, Mval))\n",
    "y_val_one_hot[y_val, np.array(list(range(Mval)))] = 1\n",
    "y_val_one_hot = y_val_one_hot.T\n",
    "\n",
    "y_test_one_hot = np.zeros((10, Mtest))\n",
    "y_test_one_hot[y_test, np.array(list(range(Mtest)))] = 1\n",
    "y_test_one_hot = y_test_one_hot.T\n",
    "\n",
    "print(\"Number of images in the training set =\", M)\n",
    "print(\"Number of images in the validation set =\", Mval)\n",
    "print(\"Number of images in the test set =\", Mtest)\n",
    "print(\"Number of classes =\", num_classes)\n",
    "print(\"Number of features per example =\", num_features)"
   ]
  },
  {
   "cell_type": "markdown",
   "metadata": {
    "id": "rYR7T7ZnYmBp"
   },
   "source": [
    "### Logging Sample Images"
   ]
  },
  {
   "cell_type": "code",
   "execution_count": null,
   "metadata": {
    "id": "dTcyI8f8V8kH"
   },
   "outputs": [],
   "source": [
    "# Store the index of first occurrence of each class\n",
    "example_indices = [list(y_train).index(i) for i in range(num_classes)]\n",
    "\n",
    "# example_images is a list containing one sample image per class, example_captions stores the corresponsing captions\n",
    "example_images = []\n",
    "example_captions = []\n",
    "for index in example_indices:\n",
    "    example_images.append(X_train[index])\n",
    "    example_captions.append(class_names[y_train[index]])\n",
    "\n",
    "# Log one sample image of each class to wandb\n",
    "wandb.log({\"Sample Image from each class\": [wandb.Image(image, caption=caption) for image, caption in zip(example_images, example_captions)]})"
   ]
  },
  {
   "cell_type": "markdown",
   "metadata": {
    "id": "kg19R5Dhhjk9"
   },
   "source": [
    "#### Logging the Confusion Matrices"
   ]
  },
  {
   "cell_type": "code",
   "execution_count": null,
   "metadata": {
    "id": "1lJLd0yWZNjS"
   },
   "outputs": [],
   "source": [
    "# Load the confusion matrix images\n",
    "img1 = plt.imread(\"trainmatrix.png\")\n",
    "img2 = plt.imread(\"testmatrix.png\")\n",
    "\n",
    "# Log images of the confusion matrices\n",
    "wandb.log({\"Confusion Matrix - Training set\": wandb.Image(img1)})\n",
    "wandb.log({\"Confusion Matrix - Test set\": wandb.Image(img2)})"
   ]
  }
 ],
 "metadata": {
  "colab": {
   "collapsed_sections": [],
   "name": "Assignment1_Upload_Images_Matrix_Wandb.ipynb",
   "provenance": [],
   "toc_visible": true
  },
  "kernelspec": {
   "display_name": "Python 3 (ipykernel)",
   "language": "python",
   "name": "python3"
  },
  "language_info": {
   "codemirror_mode": {
    "name": "ipython",
    "version": 3
   },
   "file_extension": ".py",
   "mimetype": "text/x-python",
   "name": "python",
   "nbconvert_exporter": "python",
   "pygments_lexer": "ipython3",
   "version": "3.9.18"
  }
 },
 "nbformat": 4,
 "nbformat_minor": 1
}
